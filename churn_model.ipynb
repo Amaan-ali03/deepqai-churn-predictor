{
 "cells": [
  {
   "cell_type": "code",
   "execution_count": 1,
   "id": "abfa9c6c",
   "metadata": {},
   "outputs": [
    {
     "name": "stdout",
     "output_type": "stream",
     "text": [
      "\u001b[1m\u001b[37muser               \u001b[m  Sat Jun 28 02:09:15 2025  \u001b[1m\u001b[30m535.183.01\u001b[m\r\n",
      "\u001b[36m[0]\u001b[m \u001b[34mNVIDIA RTX A5000\u001b[m |\u001b[31m 36'C\u001b[m, \u001b[32m  0 %\u001b[m | \u001b[36m\u001b[1m\u001b[33m 7618\u001b[m / \u001b[33m24564\u001b[m MB | \u001b[1m\u001b[30mrohan_kirti\u001b[m(\u001b[33m7288M\u001b[m) \u001b[1m\u001b[30mgdm\u001b[m(\u001b[33m4M\u001b[m)\r\n",
      "\u001b[36m[1]\u001b[m \u001b[34mNVIDIA RTX A5000\u001b[m |\u001b[31m 37'C\u001b[m, \u001b[32m  0 %\u001b[m | \u001b[36m\u001b[1m\u001b[33m 6422\u001b[m / \u001b[33m24564\u001b[m MB | \u001b[1m\u001b[30mrohan_kirti\u001b[m(\u001b[33m6092M\u001b[m) \u001b[1m\u001b[30mgdm\u001b[m(\u001b[33m4M\u001b[m)\r\n"
     ]
    }
   ],
   "source": [
    "!gpustat"
   ]
  },
  {
   "cell_type": "code",
   "execution_count": 2,
   "id": "3d114236",
   "metadata": {},
   "outputs": [
    {
     "name": "stdout",
     "output_type": "stream",
     "text": [
      " Dataset loaded successfully!\n",
      "Number of rows: 167020\n",
      "Number of columns: 217\n",
      "\n",
      " Data types and non-null values:\n",
      "<class 'pandas.core.frame.DataFrame'>\n",
      "RangeIndex: 167020 entries, 0 to 167019\n",
      "Columns: 217 entries, UID to X215\n",
      "dtypes: bool(1), float64(89), int64(97), object(30)\n",
      "memory usage: 275.4+ MB\n",
      "None\n",
      "\n",
      " First few rows of the dataset:\n",
      "            UID              X0      X1          X2          X3          X4  \\\n",
      "0  1003904-3746  14 month lease  1103.0  2015-01-08  2016-02-28  2015-07-30   \n",
      "1  1003904-3751  12 month lease  1136.0  2015-01-24  2016-01-17         NaN   \n",
      "2  1003904-3756  12 month lease  1382.0  2015-02-20  2016-02-21  2016-02-21   \n",
      "3  1003904-3759  14 month lease  2417.0  2015-02-06  2016-04-03  2016-04-04   \n",
      "4  1003904-3766  12 month lease  1405.0  2015-01-10  2016-01-03         NaN   \n",
      "\n",
      "           X5          X6          X7          X8  ...      X206      X207  \\\n",
      "0  2015-01-08  2015-01-08  2015-07-30  2015-07-01  ... -1.000000 -1.000000   \n",
      "1  2003-09-11  2003-09-11         NaN         NaN  ...  0.013575  0.538462   \n",
      "2  2015-02-20  2015-02-20         NaN         NaN  ... -1.000000 -1.000000   \n",
      "3  2015-02-06  2015-02-06  2016-04-04  2016-03-02  ... -1.000000 -1.000000   \n",
      "4  2014-01-10  2014-01-10         NaN         NaN  ...  0.583333  3.000000   \n",
      "\n",
      "   X208      X209      X210  X211      X212      X213    X214      X215  \n",
      "0  -1.0 -1.000000 -1.000000   1.0  1.544818  1.000000  1.6625  0.600000  \n",
      "1   0.0  1.307692  0.076923   1.0  1.591036  1.000000  1.6625  0.142857  \n",
      "2  -1.0 -1.000000 -1.000000   1.0  1.303774  0.666667  1.6625  0.769231  \n",
      "3  -1.0 -1.000000 -1.000000   1.0  1.589636  1.000000  1.6625  0.750000  \n",
      "4   0.0  3.000000  1.000000   1.0  1.349664  1.000000  1.6625  0.700000  \n",
      "\n",
      "[5 rows x 217 columns]\n",
      "\n",
      " Target_ChurnFlag distribution:\n",
      "Class 0: 100101 rows (59.93%)\n",
      "Class 1: 66919 rows (40.07%)\n",
      "\n",
      "✅ Total missing values in dataset: 1071440\n",
      "\n",
      "✅ Summary statistics for first few features:\n",
      "                  X1\n",
      "count  167020.000000\n",
      "mean     1878.648610\n",
      "std      1003.774399\n",
      "min         0.000000\n",
      "25%      1233.000000\n",
      "50%      1601.000000\n",
      "75%      2250.000000\n",
      "max     37576.000000\n"
     ]
    },
    {
     "name": "stderr",
     "output_type": "stream",
     "text": [
      "/tmp/ipykernel_1151755/3355697015.py:46: FutureWarning: \n",
      "\n",
      "Passing `palette` without assigning `hue` is deprecated and will be removed in v0.14.0. Assign the `x` variable to `hue` and set `legend=False` for the same effect.\n",
      "\n",
      "  sns.countplot(x=target_col, data=df, palette='viridis')\n"
     ]
    },
    {
     "data": {
      "image/png": "[encoded data removed]",
      "text/plain": [
       "<Figure size 600x400 with 1 Axes>"
      ]
     },
     "metadata": {},
     "output_type": "display_data"
    }
   ],
   "source": [
    "# Import standard libraries\n",
    "import pandas as pd\n",
    "import numpy as np\n",
    "import matplotlib.pyplot as plt\n",
    "import seaborn as sns\n",
    "\n",
    "# Make plots look better\n",
    "sns.set(style='whitegrid')\n",
    "\n",
    "# Load the dataset\n",
    "file_path = \"deepq_ai_assignment1_data 2.csv\"\n",
    "df = pd.read_csv(file_path)\n",
    "\n",
    "print(\" Dataset loaded successfully!\")\n",
    "print(f\"Number of rows: {df.shape[0]}\")\n",
    "print(f\"Number of columns: {df.shape[1]}\\n\")\n",
    "\n",
    "print(\" Data types and non-null values:\")\n",
    "print(df.info())\n",
    "\n",
    "# Peek at the first few rows\n",
    "print(\"\\n First few rows of the dataset:\")\n",
    "print(df.head())\n",
    "\n",
    "# Check target distribution\n",
    "target_col = 'Target_ChurnFlag'\n",
    "target_counts = df[target_col].value_counts()\n",
    "target_pct = df[target_col].value_counts(normalize=True) * 100\n",
    "\n",
    "print(\"\\n Target_ChurnFlag distribution:\")\n",
    "for label, count in target_counts.items():\n",
    "    print(f\"Class {label}: {count} rows ({target_pct[label]:.2f}%)\")\n",
    "\n",
    "#Check for missing values\n",
    "total_nulls = df.isnull().sum().sum()\n",
    "print(f\"\\n Total missing values in dataset: {total_nulls}\")\n",
    "\n",
    "# === Check basic stats of features ===\n",
    "# Exclude UID and target column\n",
    "feature_cols = [col for col in df.columns if col.startswith('X')]\n",
    "print(\"\\n Summary statistics for first few features:\")\n",
    "print(df[feature_cols[:5]].describe())\n",
    "\n",
    "#Plot the target distribution\n",
    "plt.figure(figsize=(6, 4))\n",
    "sns.countplot(x=target_col, data=df, palette='viridis')\n",
    "plt.title('Target_ChurnFlag Class Distribution')\n",
    "plt.xlabel('Target_ChurnFlag')\n",
    "plt.ylabel('Count')\n",
    "plt.show()\n"
   ]
  },
  {
   "cell_type": "code",
   "execution_count": 3,
   "id": "2a9e84b1",
   "metadata": {},
   "outputs": [
    {
     "name": "stdout",
     "output_type": "stream",
     "text": [
      "Columns with the most missing values:\n",
      "X11     167020\n",
      "X9      158340\n",
      "X100    137026\n",
      "X99     123888\n",
      "X108    107416\n",
      "X8       95579\n",
      "X7       92761\n",
      "X4       84400\n",
      "X16      66919\n",
      "X85      37511\n",
      "dtype: int64\n",
      "\n",
      "Dropping 8 columns with >50% missing values.\n",
      "New shape after dropping columns: (167020, 209)\n",
      "\n",
      "Remaining object columns:\n",
      "['UID', 'X0', 'X2', 'X3', 'X5', 'X6', 'X16', 'X18', 'X30', 'X31', 'X149', 'X150', 'X151', 'X152', 'X154', 'X155', 'X156', 'X157', 'X158', 'X164', 'X165', 'X169', 'X170']\n",
      "\n",
      "X0 sample unique values:\n",
      "['14 month lease' '12 month lease' '13 month lease' '11 month lease'\n",
      " '3 month lease' '16 month lease' '15 month lease' '6 month lease'\n",
      " '4 month lease' '10 month lease' '7 month lease' '24 month'\n",
      " '8 month lease' '9 month lease' '18 month lease' '17 month lease'\n",
      " '14 month' '14  month lease' '1 month lease' '15 monh lease' '3 month'\n",
      " '14month lease' '2 month lease' '5 month lease' '12 Month Lease'\n",
      " '11 Month Lease' '15 Month Lease' '13 Month Lease' '10 Month Lease'\n",
      " '3 Month Lease' '6 Month Lease' '14 Month Lease' '16 month  lease'\n",
      " '13 mont lease' '13 Months' '13 month Lease' '14 month leases' '6 months'\n",
      " '13 months' '15 months' '14 months' '12 month Lease' '12 Month Term'\n",
      " '11 Month Term' '6 Month Term' '16 Month Term' '12 Month lease'\n",
      " '13 Month lease' '14 Month lease' '5 Month lease' '6 Month lease'\n",
      " '9 Month Lease' '8 Month Lease' '7 Month Lease' '24 month lease'\n",
      " '14 month Lease' '15 month Lease' '16 month Lease' '12  month lease'\n",
      " '3 months']\n",
      "\n",
      "Example values of remaining object columns:\n",
      "UID: ['1003904-3746' '1003904-3751' '1003904-3756']\n",
      "X0: ['14 month lease' '12 month lease' '13 month lease']\n",
      "X2: ['2015-01-08' '2015-01-24' '2015-02-20']\n",
      "X3: ['2016-02-28' '2016-01-17' '2016-02-21']\n",
      "X5: ['2015-01-08' '2003-09-11' '2015-02-20']\n"
     ]
    }
   ],
   "source": [
    "# Identify columns with missing data\n",
    "missing_per_col = df.isnull().sum().sort_values(ascending=False)\n",
    "\n",
    "print(\"Columns with the most missing values:\")\n",
    "print(missing_per_col.head(10))\n",
    "\n",
    "# Remove columns with >50% missing values\n",
    "threshold = 0.5 * df.shape[0]\n",
    "cols_to_drop = missing_per_col[missing_per_col > threshold].index.tolist()\n",
    "\n",
    "print(f\"\\nDropping {len(cols_to_drop)} columns with >50% missing values.\")\n",
    "df_clean = df.drop(columns=cols_to_drop)\n",
    "\n",
    "# Show remaining shape\n",
    "print(f\"New shape after dropping columns: {df_clean.shape}\")\n",
    "\n",
    "# Check object columns\n",
    "obj_cols = df_clean.select_dtypes(include='object').columns.tolist()\n",
    "print(\"\\nRemaining object columns:\")\n",
    "print(obj_cols)\n",
    "\n",
    "# Check a few unique values of X0 (lease type)\n",
    "if 'X0' in obj_cols:\n",
    "    print(\"\\nX0 sample unique values:\")\n",
    "    print(df_clean['X0'].unique())\n",
    "\n",
    "# Check date-type columns (if any obvious ones remain)\n",
    "print(\"\\nExample values of remaining object columns:\")\n",
    "for col in obj_cols[:5]:\n",
    "    print(f\"{col}: {df_clean[col].unique()[:3]}\")\n"
   ]
  },
  {
   "cell_type": "code",
   "execution_count": 4,
   "id": "f3a112b5",
   "metadata": {},
   "outputs": [
    {
     "name": "stdout",
     "output_type": "stream",
     "text": [
      "\n",
      "Unique cleaned lease types:\n",
      "['14' '12' '13' '11' '3' '16' '15' '6' '4' '10' '7' '24' '8' '9' '18' '17'\n",
      " '1' '2' '5' '13 mont' '13 s' '14 s' '6 s' '15 s' '3 s']\n",
      "\n",
      "Sample duration (X2 to X3):\n",
      "           X2          X3  duration_X2_X3\n",
      "0  2015-01-08  2016-02-28             416\n",
      "1  2015-01-24  2016-01-17             358\n",
      "2  2015-02-20  2016-02-21             366\n",
      "3  2015-02-06  2016-04-03             422\n",
      "4  2015-01-10  2016-01-03             358\n"
     ]
    }
   ],
   "source": [
    "# Drop UID - not useful for modeling\n",
    "df_clean = df_clean.drop(columns=['UID'])\n",
    "\n",
    "#Clean X0 \n",
    "def clean_lease_type(value):\n",
    "    if pd.isnull(value):\n",
    "        return 'unknown'\n",
    "    value = str(value).lower().replace('lease', '').replace('month', '').replace('term', '')\n",
    "    value = value.replace('months', '').replace('monh', '').replace('  ', ' ').strip()\n",
    "    return value\n",
    "\n",
    "df_clean['X0_clean'] = df_clean['X0'].apply(clean_lease_type)\n",
    "\n",
    "print(\"\\nUnique cleaned lease types:\")\n",
    "print(df_clean['X0_clean'].unique())\n",
    "\n",
    "#Process date columns (example X2 and X3 as start and end dates)\n",
    "# Convert to datetime\n",
    "df_clean['X2_dt'] = pd.to_datetime(df_clean['X2'], errors='coerce')\n",
    "df_clean['X3_dt'] = pd.to_datetime(df_clean['X3'], errors='coerce')\n",
    "\n",
    "# Compute duration in days\n",
    "df_clean['duration_X2_X3'] = (df_clean['X3_dt'] - df_clean['X2_dt']).dt.days\n",
    "\n",
    "# Preview duration\n",
    "print(\"\\nSample duration (X2 to X3):\")\n",
    "print(df_clean[['X2', 'X3', 'duration_X2_X3']].head())\n",
    "\n",
    "# Remove original X0, X2, X3 (we now have engineered features)\n",
    "df_clean = df_clean.drop(columns=['X0', 'X2', 'X3'])\n"
   ]
  },
  {
   "cell_type": "code",
   "execution_count": 5,
   "id": "e5baccfe",
   "metadata": {},
   "outputs": [
    {
     "name": "stdout",
     "output_type": "stream",
     "text": [
      "\n",
      "Lease type after final numeric conversion:\n",
      "[14 12 13 11  3 16 15  6  4 10  7 24  8  9 18 17  1  2  5]\n",
      "\n",
      "Remaining object columns to handle:\n",
      "['X5', 'X6', 'X16', 'X18', 'X30', 'X31', 'X149', 'X150', 'X151', 'X152', 'X154', 'X155', 'X156', 'X157', 'X158', 'X164', 'X165', 'X169', 'X170']\n",
      "\n",
      "Shape after dropping raw object columns: (167020, 190)\n"
     ]
    }
   ],
   "source": [
    "# Fixing leftover messy lease types\n",
    "def finalize_lease(value):\n",
    "    try:\n",
    "        return int(value.split()[0])\n",
    "    except:\n",
    "        return np.nan  # if it can't be converted\n",
    "\n",
    "df_clean['X0_clean'] = df_clean['X0_clean'].apply(finalize_lease)\n",
    "\n",
    "# Checking result\n",
    "print(\"\\nLease type after final numeric conversion:\")\n",
    "print(df_clean['X0_clean'].unique())\n",
    "\n",
    "# If any NaNs, fill with a default or median\n",
    "if df_clean['X0_clean'].isnull().sum() > 0:\n",
    "    median_lease = df_clean['X0_clean'].median()\n",
    "    df_clean['X0_clean'] = df_clean['X0_clean'].fillna(median_lease)\n",
    "\n",
    "# Drop any other object columns (or encode if we want)\n",
    "remaining_obj = df_clean.select_dtypes(include='object').columns.tolist()\n",
    "print(\"\\nRemaining object columns to handle:\")\n",
    "print(remaining_obj)\n",
    "\n",
    "# Drop remaining raw date columns (we have duration)\n",
    "date_cols_to_drop = [col for col in remaining_obj if 'dt' not in col]\n",
    "df_clean = df_clean.drop(columns=date_cols_to_drop)\n",
    "\n",
    "print(f\"\\nShape after dropping raw object columns: {df_clean.shape}\")\n"
   ]
  },
  {
   "cell_type": "code",
   "execution_count": 6,
   "id": "62518d16",
   "metadata": {},
   "outputs": [
    {
     "ename": "KeyError",
     "evalue": "'X5'",
     "output_type": "error",
     "traceback": [
      "\u001b[0;31m---------------------------------------------------------------------------\u001b[0m",
      "\u001b[0;31mKeyError\u001b[0m                                  Traceback (most recent call last)",
      "File \u001b[0;32m~/anaconda3/envs/amaanenv/lib/python3.10/site-packages/pandas/core/indexes/base.py:3805\u001b[0m, in \u001b[0;36mIndex.get_loc\u001b[0;34m(self, key)\u001b[0m\n\u001b[1;32m   3804\u001b[0m \u001b[38;5;28;01mtry\u001b[39;00m:\n\u001b[0;32m-> 3805\u001b[0m     \u001b[38;5;28;01mreturn\u001b[39;00m \u001b[38;5;28;43mself\u001b[39;49m\u001b[38;5;241;43m.\u001b[39;49m\u001b[43m_engine\u001b[49m\u001b[38;5;241;43m.\u001b[39;49m\u001b[43mget_loc\u001b[49m\u001b[43m(\u001b[49m\u001b[43mcasted_key\u001b[49m\u001b[43m)\u001b[49m\n\u001b[1;32m   3806\u001b[0m \u001b[38;5;28;01mexcept\u001b[39;00m \u001b[38;5;167;01mKeyError\u001b[39;00m \u001b[38;5;28;01mas\u001b[39;00m err:\n",
      "File \u001b[0;32mindex.pyx:167\u001b[0m, in \u001b[0;36mpandas._libs.index.IndexEngine.get_loc\u001b[0;34m()\u001b[0m\n",
      "File \u001b[0;32mindex.pyx:196\u001b[0m, in \u001b[0;36mpandas._libs.index.IndexEngine.get_loc\u001b[0;34m()\u001b[0m\n",
      "File \u001b[0;32mpandas/_libs/hashtable_class_helper.pxi:7081\u001b[0m, in \u001b[0;36mpandas._libs.hashtable.PyObjectHashTable.get_item\u001b[0;34m()\u001b[0m\n",
      "File \u001b[0;32mpandas/_libs/hashtable_class_helper.pxi:7089\u001b[0m, in \u001b[0;36mpandas._libs.hashtable.PyObjectHashTable.get_item\u001b[0;34m()\u001b[0m\n",
      "\u001b[0;31mKeyError\u001b[0m: 'X5'",
      "\nThe above exception was the direct cause of the following exception:\n",
      "\u001b[0;31mKeyError\u001b[0m                                  Traceback (most recent call last)",
      "Cell \u001b[0;32mIn[6], line 4\u001b[0m\n\u001b[1;32m      2\u001b[0m date_cols \u001b[38;5;241m=\u001b[39m [\u001b[38;5;124m'\u001b[39m\u001b[38;5;124mX5\u001b[39m\u001b[38;5;124m'\u001b[39m, \u001b[38;5;124m'\u001b[39m\u001b[38;5;124mX6\u001b[39m\u001b[38;5;124m'\u001b[39m, \u001b[38;5;124m'\u001b[39m\u001b[38;5;124mX16\u001b[39m\u001b[38;5;124m'\u001b[39m, \u001b[38;5;124m'\u001b[39m\u001b[38;5;124mX18\u001b[39m\u001b[38;5;124m'\u001b[39m, \u001b[38;5;124m'\u001b[39m\u001b[38;5;124mX30\u001b[39m\u001b[38;5;124m'\u001b[39m, \u001b[38;5;124m'\u001b[39m\u001b[38;5;124mX31\u001b[39m\u001b[38;5;124m'\u001b[39m]\n\u001b[1;32m      3\u001b[0m \u001b[38;5;28;01mfor\u001b[39;00m col \u001b[38;5;129;01min\u001b[39;00m date_cols:\n\u001b[0;32m----> 4\u001b[0m     df_clean[col \u001b[38;5;241m+\u001b[39m \u001b[38;5;124m'\u001b[39m\u001b[38;5;124m_dt\u001b[39m\u001b[38;5;124m'\u001b[39m] \u001b[38;5;241m=\u001b[39m pd\u001b[38;5;241m.\u001b[39mto_datetime(\u001b[43mdf_clean\u001b[49m\u001b[43m[\u001b[49m\u001b[43mcol\u001b[49m\u001b[43m]\u001b[49m, errors\u001b[38;5;241m=\u001b[39m\u001b[38;5;124m'\u001b[39m\u001b[38;5;124mcoerce\u001b[39m\u001b[38;5;124m'\u001b[39m)\n\u001b[1;32m      6\u001b[0m \u001b[38;5;66;03m# Example: Calculate age between X5 and X6\u001b[39;00m\n\u001b[1;32m      7\u001b[0m df_clean[\u001b[38;5;124m'\u001b[39m\u001b[38;5;124mduration_X5_X6\u001b[39m\u001b[38;5;124m'\u001b[39m] \u001b[38;5;241m=\u001b[39m (df_clean[\u001b[38;5;124m'\u001b[39m\u001b[38;5;124mX6_dt\u001b[39m\u001b[38;5;124m'\u001b[39m] \u001b[38;5;241m-\u001b[39m df_clean[\u001b[38;5;124m'\u001b[39m\u001b[38;5;124mX5_dt\u001b[39m\u001b[38;5;124m'\u001b[39m])\u001b[38;5;241m.\u001b[39mdt\u001b[38;5;241m.\u001b[39mdays\n",
      "File \u001b[0;32m~/anaconda3/envs/amaanenv/lib/python3.10/site-packages/pandas/core/frame.py:4102\u001b[0m, in \u001b[0;36mDataFrame.__getitem__\u001b[0;34m(self, key)\u001b[0m\n\u001b[1;32m   4100\u001b[0m \u001b[38;5;28;01mif\u001b[39;00m \u001b[38;5;28mself\u001b[39m\u001b[38;5;241m.\u001b[39mcolumns\u001b[38;5;241m.\u001b[39mnlevels \u001b[38;5;241m>\u001b[39m \u001b[38;5;241m1\u001b[39m:\n\u001b[1;32m   4101\u001b[0m     \u001b[38;5;28;01mreturn\u001b[39;00m \u001b[38;5;28mself\u001b[39m\u001b[38;5;241m.\u001b[39m_getitem_multilevel(key)\n\u001b[0;32m-> 4102\u001b[0m indexer \u001b[38;5;241m=\u001b[39m \u001b[38;5;28;43mself\u001b[39;49m\u001b[38;5;241;43m.\u001b[39;49m\u001b[43mcolumns\u001b[49m\u001b[38;5;241;43m.\u001b[39;49m\u001b[43mget_loc\u001b[49m\u001b[43m(\u001b[49m\u001b[43mkey\u001b[49m\u001b[43m)\u001b[49m\n\u001b[1;32m   4103\u001b[0m \u001b[38;5;28;01mif\u001b[39;00m is_integer(indexer):\n\u001b[1;32m   4104\u001b[0m     indexer \u001b[38;5;241m=\u001b[39m [indexer]\n",
      "File \u001b[0;32m~/anaconda3/envs/amaanenv/lib/python3.10/site-packages/pandas/core/indexes/base.py:3812\u001b[0m, in \u001b[0;36mIndex.get_loc\u001b[0;34m(self, key)\u001b[0m\n\u001b[1;32m   3807\u001b[0m     \u001b[38;5;28;01mif\u001b[39;00m \u001b[38;5;28misinstance\u001b[39m(casted_key, \u001b[38;5;28mslice\u001b[39m) \u001b[38;5;129;01mor\u001b[39;00m (\n\u001b[1;32m   3808\u001b[0m         \u001b[38;5;28misinstance\u001b[39m(casted_key, abc\u001b[38;5;241m.\u001b[39mIterable)\n\u001b[1;32m   3809\u001b[0m         \u001b[38;5;129;01mand\u001b[39;00m \u001b[38;5;28many\u001b[39m(\u001b[38;5;28misinstance\u001b[39m(x, \u001b[38;5;28mslice\u001b[39m) \u001b[38;5;28;01mfor\u001b[39;00m x \u001b[38;5;129;01min\u001b[39;00m casted_key)\n\u001b[1;32m   3810\u001b[0m     ):\n\u001b[1;32m   3811\u001b[0m         \u001b[38;5;28;01mraise\u001b[39;00m InvalidIndexError(key)\n\u001b[0;32m-> 3812\u001b[0m     \u001b[38;5;28;01mraise\u001b[39;00m \u001b[38;5;167;01mKeyError\u001b[39;00m(key) \u001b[38;5;28;01mfrom\u001b[39;00m \u001b[38;5;21;01merr\u001b[39;00m\n\u001b[1;32m   3813\u001b[0m \u001b[38;5;28;01mexcept\u001b[39;00m \u001b[38;5;167;01mTypeError\u001b[39;00m:\n\u001b[1;32m   3814\u001b[0m     \u001b[38;5;66;03m# If we have a listlike key, _check_indexing_error will raise\u001b[39;00m\n\u001b[1;32m   3815\u001b[0m     \u001b[38;5;66;03m#  InvalidIndexError. Otherwise we fall through and re-raise\u001b[39;00m\n\u001b[1;32m   3816\u001b[0m     \u001b[38;5;66;03m#  the TypeError.\u001b[39;00m\n\u001b[1;32m   3817\u001b[0m     \u001b[38;5;28mself\u001b[39m\u001b[38;5;241m.\u001b[39m_check_indexing_error(key)\n",
      "\u001b[0;31mKeyError\u001b[0m: 'X5'"
     ]
    }
   ],
   "source": [
    "# Convert date columns to datetime\n",
    "date_cols = ['X5', 'X6', 'X16', 'X18', 'X30', 'X31']\n",
    "for col in date_cols:\n",
    "    df_clean[col + '_dt'] = pd.to_datetime(df_clean[col], errors='coerce')\n",
    "\n",
    "# Example: Calculate age between X5 and X6\n",
    "df_clean['duration_X5_X6'] = (df_clean['X6_dt'] - df_clean['X5_dt']).dt.days\n",
    "\n",
    "# Drop original date columns\n",
    "df_clean = df_clean.drop(columns=date_cols)\n",
    "\n",
    "# Drop remaining object columns that are likely IDs or too messy\n",
    "other_obj = df_clean.select_dtypes(include='object').columns.tolist()\n",
    "df_clean = df_clean.drop(columns=other_obj)\n",
    "\n",
    "print(f\"\\nShape after cleaning date and object columns: {df_clean.shape}\")\n",
    "\n",
    "# Check final columns\n",
    "print(\"\\nSample columns now:\")\n",
    "print(df_clean.columns[:10].tolist())\n"
   ]
  },
  {
   "cell_type": "code",
   "execution_count": 7,
   "id": "572adfdf",
   "metadata": {},
   "outputs": [
    {
     "name": "stdout",
     "output_type": "stream",
     "text": [
      "✅ Remaining object columns:\n",
      "[]\n",
      "\n",
      "✅ Sample values from remaining object columns:\n",
      "Empty DataFrame\n",
      "Columns: []\n",
      "Index: [0, 1, 2, 3, 4]\n"
     ]
    }
   ],
   "source": [
    "# Printing remaining object columns to see what we actually have now\n",
    "remaining_obj_cols = df_clean.select_dtypes(include='object').columns.tolist()\n",
    "\n",
    "print(\"Remaining object columns:\")\n",
    "print(remaining_obj_cols)\n",
    "\n",
    "#print a few rows of these\n",
    "print(\"\\nSample values from remaining object columns:\")\n",
    "print(df_clean[remaining_obj_cols].head())\n"
   ]
  },
  {
   "cell_type": "code",
   "execution_count": 8,
   "id": "afdf1c8e",
   "metadata": {},
   "outputs": [
    {
     "name": "stdout",
     "output_type": "stream",
     "text": [
      "Columns with missing values:\n",
      "X85    37511\n",
      "dtype: int64\n",
      "\n",
      "Any missing values left?\n",
      "0\n",
      "\n",
      "Final data shape ready for modeling: (167020, 190)\n"
     ]
    },
    {
     "name": "stderr",
     "output_type": "stream",
     "text": [
      "/tmp/ipykernel_1151755/3376392594.py:11: FutureWarning: A value is trying to be set on a copy of a DataFrame or Series through chained assignment using an inplace method.\n",
      "The behavior will change in pandas 3.0. This inplace method will never work because the intermediate object on which we are setting values always behaves as a copy.\n",
      "\n",
      "For example, when doing 'df[col].method(value, inplace=True)', try using 'df.method({col: value}, inplace=True)' or df[col] = df[col].method(value) instead, to perform the operation inplace on the original object.\n",
      "\n",
      "\n",
      "  df_clean[col].fillna(median_val, inplace=True)\n"
     ]
    }
   ],
   "source": [
    "# Check for NaN values\n",
    "nan_summary = df_clean.isnull().sum()\n",
    "nan_cols = nan_summary[nan_summary > 0]\n",
    "\n",
    "print(\"Columns with missing values:\")\n",
    "print(nan_cols)\n",
    "\n",
    "# Option 1: Impute with median for now (simple, clean, LightGBM-friendly)\n",
    "for col in nan_cols.index:\n",
    "    median_val = df_clean[col].median()\n",
    "    df_clean[col].fillna(median_val, inplace=True)\n",
    "\n",
    "# Final check\n",
    "print(\"\\nAny missing values left?\")\n",
    "print(df_clean.isnull().sum().sum())\n",
    "\n",
    "# Show final shape\n",
    "print(f\"\\nFinal data shape ready for modeling: {df_clean.shape}\")\n"
   ]
  },
  {
   "cell_type": "code",
   "execution_count": 13,
   "id": "a1f7ba01",
   "metadata": {},
   "outputs": [
    {
     "name": "stdout",
     "output_type": "stream",
     "text": [
      "Datetime columns to drop: ['X2_dt', 'X3_dt']\n",
      "\n",
      "Dtypes after dropping datetime columns:\n",
      "int64      99\n",
      "float64    88\n",
      "bool        1\n",
      "Name: count, dtype: int64\n"
     ]
    }
   ],
   "source": [
    "# Identify datetime columns\n",
    "datetime_cols = df_clean.select_dtypes(include=['datetime64']).columns.tolist()\n",
    "print(\"Datetime columns to drop:\", datetime_cols)\n",
    "\n",
    "# Drop them\n",
    "df_clean = df_clean.drop(columns=datetime_cols)\n",
    "\n",
    "# Check final dtypes\n",
    "print(\"\\nDtypes after dropping datetime columns:\")\n",
    "print(df_clean.dtypes.value_counts())\n"
   ]
  },
  {
   "cell_type": "code",
   "execution_count": 14,
   "id": "dc44e5da",
   "metadata": {},
   "outputs": [
    {
     "name": "stdout",
     "output_type": "stream",
     "text": [
      "Train shape: (133616, 187), Test shape: (33404, 187)\n",
      "\n",
      "Test ROC-AUC: 0.7347\n",
      "\n",
      "Confusion Matrix:\n",
      "[[16621  3399]\n",
      " [ 7137  6247]]\n",
      "\n",
      "Classification Report:\n",
      "              precision    recall  f1-score   support\n",
      "\n",
      "           0       0.70      0.83      0.76     20020\n",
      "           1       0.65      0.47      0.54     13384\n",
      "\n",
      "    accuracy                           0.68     33404\n",
      "   macro avg       0.67      0.65      0.65     33404\n",
      "weighted avg       0.68      0.68      0.67     33404\n",
      "\n"
     ]
    },
    {
     "data": {
      "image/png": "[encoded data removed]",
      "text/plain": [
       "<Figure size 800x600 with 1 Axes>"
      ]
     },
     "metadata": {},
     "output_type": "display_data"
    }
   ],
   "source": [
    "from sklearn.model_selection import train_test_split\n",
    "from sklearn.metrics import roc_auc_score, confusion_matrix, classification_report\n",
    "import lightgbm as lgb\n",
    "import matplotlib.pyplot as plt\n",
    "\n",
    "# Split data\n",
    "target = 'Target_ChurnFlag'\n",
    "X = df_clean.drop(columns=[target])\n",
    "y = df_clean[target]\n",
    "\n",
    "X_train, X_test, y_train, y_test = train_test_split(\n",
    "    X, y, test_size=0.2, stratify=y, random_state=42\n",
    ")\n",
    "\n",
    "print(f\"Train shape: {X_train.shape}, Test shape: {X_test.shape}\")\n",
    "\n",
    "model = lgb.LGBMClassifier(\n",
    "    objective='binary',\n",
    "    boosting_type='gbdt',\n",
    "    random_state=42,\n",
    "    n_estimators=300,\n",
    "    verbosity=-1\n",
    ")\n",
    "\n",
    "model.fit(\n",
    "    X_train, y_train,\n",
    "    eval_set=[(X_test, y_test)],\n",
    "    eval_metric='auc'\n",
    ")\n",
    "\n",
    "# Predict probas\n",
    "y_pred_prob = model.predict_proba(X_test)[:, 1]\n",
    "\n",
    "# Metrics\n",
    "auc_score = roc_auc_score(y_test, y_pred_prob)\n",
    "print(f\"\\nTest ROC-AUC: {auc_score:.4f}\")\n",
    "\n",
    "y_pred_label = (y_pred_prob >= 0.5).astype(int)\n",
    "print(\"\\nConfusion Matrix:\")\n",
    "print(confusion_matrix(y_test, y_pred_label))\n",
    "\n",
    "print(\"\\nClassification Report:\")\n",
    "print(classification_report(y_test, y_pred_label))\n",
    "\n",
    "# Feature importance\n",
    "lgb.plot_importance(model, max_num_features=10, importance_type='gain', figsize=(8,6))\n",
    "plt.title(\"Top 10 Feature Importances\")\n",
    "plt.show()\n"
   ]
  },
  {
   "cell_type": "code",
   "execution_count": null,
   "id": "8346a8b1",
   "metadata": {},
   "outputs": [
    {
     "name": "stdout",
     "output_type": "stream",
     "text": [
      "Fitting 3 folds for each of 20 candidates, totalling 60 fits\n"
     ]
    }
   ],
   "source": [
    "from sklearn.model_selection import RandomizedSearchCV\n",
    "\n",
    "# LightGBM classifier\n",
    "model = lgb.LGBMClassifier(\n",
    "    objective='binary',\n",
    "    boosting_type='gbdt',\n",
    "    random_state=42,\n",
    "    n_estimators=500,\n",
    "    class_weight='balanced'  # handle imbalance\n",
    ")\n",
    "\n",
    "# Hyperparameter space\n",
    "param_grid = {\n",
    "    'num_leaves': [31, 50, 70],\n",
    "    'max_depth': [ -1, 10, 20, 30],\n",
    "    'learning_rate': [0.01, 0.05, 0.1],\n",
    "    'min_child_samples': [20, 50, 100],\n",
    "    'subsample': [0.6, 0.8, 1.0],\n",
    "    'colsample_bytree': [0.6, 0.8, 1.0],\n",
    "}\n",
    "\n",
    "# Randomized search\n",
    "search = RandomizedSearchCV(\n",
    "    model,\n",
    "    param_distributions=param_grid,\n",
    "    n_iter=20,\n",
    "    scoring='roc_auc',\n",
    "    cv=3,\n",
    "    verbose=2,\n",
    "    random_state=42,\n",
    "    n_jobs=-1\n",
    ")\n",
    "\n",
    "search.fit(X_train, y_train)\n",
    "\n",
    "print(f\"Best params: {search.best_params_}\")\n",
    "print(f\"Best CV ROC-AUC: {search.best_score_:.4f}\")\n",
    "\n",
    "# Evaluate on test set\n",
    "best_model = search.best_estimator_\n",
    "y_pred_prob = best_model.predict_proba(X_test)[:, 1]\n",
    "\n",
    "roc_auc = roc_auc_score(y_test, y_pred_prob)\n",
    "print(f\"Test ROC-AUC: {roc_auc:.4f}\")\n",
    "\n",
    "# Tune threshold for recall\n",
    "from sklearn.metrics import precision_recall_curve\n",
    "\n",
    "precisions, recalls, thresholds = precision_recall_curve(y_test, y_pred_prob)\n",
    "\n",
    "# Plot precision-recall curve\n",
    "import matplotlib.pyplot as plt\n",
    "plt.plot(thresholds, precisions[:-1], label='Precision')\n",
    "plt.plot(thresholds, recalls[:-1], label='Recall')\n",
    "plt.xlabel('Threshold')\n",
    "plt.legend()\n",
    "plt.title('Precision-Recall vs Threshold')\n",
    "plt.show()\n",
    "\n",
    "# Pick threshold that gives higher recall (you decide trade-off!)\n",
    "best_thresh = thresholds[recalls[:-1] >= 0.6][0] if any(recalls[:-1] >= 0.6) else 0.5\n",
    "print(f\"Chosen threshold: {best_thresh:.2f}\")\n",
    "\n",
    "y_pred_label = (y_pred_prob >= best_thresh).astype(int)\n",
    "\n",
    "print(confusion_matrix(y_test, y_pred_label))\n",
    "print(classification_report(y_test, y_pred_label))\n"
   ]
  },
  {
   "cell_type": "code",
   "execution_count": 16,
   "id": "9283e634",
   "metadata": {},
   "outputs": [
    {
     "data": {
      "text/plain": [
       "['lgbm_churn_model.pkl']"
      ]
     },
     "execution_count": 16,
     "metadata": {},
     "output_type": "execute_result"
    }
   ],
   "source": [
    "import joblib\n",
    "joblib.dump(model, 'lgbm_churn_model.pkl')\n"
   ]
  },
  {
   "cell_type": "code",
   "execution_count": 20,
   "id": "3cb24ac8",
   "metadata": {},
   "outputs": [
    {
     "data": {
      "text/plain": [
       "['lgbm_churn_model.pkl']"
      ]
     },
     "execution_count": 20,
     "metadata": {},
     "output_type": "execute_result"
    }
   ],
   "source": [
    "# Assuming X_train, y_train already prepared\n",
    "model = lgb.LGBMClassifier(\n",
    "    objective='binary',\n",
    "    boosting_type='gbdt',\n",
    "    random_state=42,\n",
    "    n_estimators=300,\n",
    "    class_weight='balanced'\n",
    ")\n",
    "\n",
    "model.fit(X_train, y_train)\n",
    "\n",
    "# saving after import\n",
    "import joblib\n",
    "joblib.dump(model, 'lgbm_churn_model.pkl')\n"
   ]
  },
  {
   "cell_type": "code",
   "execution_count": 21,
   "id": "da13e5fe",
   "metadata": {},
   "outputs": [
    {
     "name": "stdout",
     "output_type": "stream",
     "text": [
      "<class 'lightgbm.sklearn.LGBMClassifier'>\n",
      "True\n",
      "['X1', 'X10', 'X12', 'X13', 'X14', 'X15', 'X17', 'X19', 'X20', 'X21', 'X22', 'X23', 'X24', 'X25', 'X26', 'X27', 'X29', 'X32', 'X33', 'X34', 'X35', 'X36', 'X37', 'X38', 'X39', 'X40', 'X41', 'X42', 'X43', 'X44', 'X45', 'X46', 'X47', 'X48', 'X49', 'X50', 'X51', 'X52', 'X53', 'X54', 'X55', 'X56', 'X57', 'X58', 'X59', 'X60', 'X61', 'X62', 'X63', 'X64', 'X65', 'X66', 'X67', 'X68', 'X69', 'X70', 'X71', 'X72', 'X73', 'X74', 'X75', 'X76', 'X77', 'X78', 'X79', 'X80', 'X81', 'X82', 'X83', 'X84', 'X85', 'X86', 'X87', 'X88', 'X89', 'X90', 'X91', 'X92', 'X93', 'X94', 'X95', 'X96', 'X97', 'X98', 'X101', 'X102', 'X103', 'X104', 'X105', 'X106', 'X107', 'X109', 'X110', 'X111', 'X112', 'X113', 'X114', 'X115', 'X116', 'X117', 'X118', 'X119', 'X120', 'X121', 'X122', 'X123', 'X124', 'X125', 'X126', 'X127', 'X128', 'X129', 'X130', 'X131', 'X132', 'X133', 'X134', 'X135', 'X136', 'X137', 'X138', 'X139', 'X140', 'X141', 'X142', 'X143', 'X144', 'X145', 'X146', 'X147', 'X148', 'X153', 'X159', 'X160', 'X161', 'X162', 'X163', 'X166', 'X167', 'X168', 'X171', 'X172', 'X173', 'X174', 'X175', 'X176', 'X177', 'X178', 'X179', 'X180', 'X181', 'X182', 'X183', 'X184', 'X185', 'X186', 'X187', 'X188', 'X189', 'X190', 'X191', 'X192', 'X193', 'X194', 'X195', 'X196', 'X197', 'X198', 'X199', 'X200', 'X201', 'X202', 'X203', 'X204', 'X205', 'X206', 'X207', 'X208', 'X209', 'X210', 'X211', 'X212', 'X213', 'X214', 'X215', 'X0_clean', 'duration_X2_X3']\n"
     ]
    }
   ],
   "source": [
    "import joblib\n",
    "\n",
    "model = joblib.load('lgbm_churn_model.pkl')\n",
    "\n",
    "print(type(model))\n",
    "print(hasattr(model, 'predict_proba'))  # should be True\n",
    "print(model.feature_name_)              # should list feature names\n"
   ]
  },
  {
   "cell_type": "code",
   "execution_count": null,
   "id": "27916557",
   "metadata": {},
   "outputs": [],
   "source": []
  }
 ],
 "metadata": {
  "kernelspec": {
   "display_name": "Python [conda env:amaanenv] *",
   "language": "python",
   "name": "conda-env-amaanenv-py"
  },
  "language_info": {
   "codemirror_mode": {
    "name": "ipython",
    "version": 3
   },
   "file_extension": ".py",
   "mimetype": "text/x-python",
   "name": "python",
   "nbconvert_exporter": "python",
   "pygments_lexer": "ipython3",
   "version": "3.10.16"
  }
 },
 "nbformat": 4,
 "nbformat_minor": 5
}
